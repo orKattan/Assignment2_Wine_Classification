{
 "cells": [
  {
   "cell_type": "markdown",
   "id": "693151cf",
   "metadata": {},
   "source": [
    "# 📌 Student Details\n",
    "**Name:** Or Kattan  \n",
    "**ID:** 211312657  \n",
    "\n",
    "This notebook solves a classification task on the Wine dataset.\n",
    "The goal is to predict the wine category based on chemical attributes using KNN."
   ]
  },
  {
   "cell_type": "markdown",
   "id": "aa73f174",
   "metadata": {},
   "source": [
    "### 🤖 Prompt/LLM Usage\n",
    "This project was developed with the help of ChatGPT for technical assistance in Python, machine learning flow, and code refinement.\n"
   ]
  },
  {
   "cell_type": "markdown",
   "id": "0b61ff8e",
   "metadata": {},
   "source": [
    "# 🧪 Wine Classification Project\n",
    "**Student:** Or Kattan  \n",
    "**ID:** 211312657  \n",
    "\n",
    "This notebook performs a full classification flow using the Wine dataset, including scaling, training a KNN model, tuning via GridSearchCV, evaluation, and PCA visualization."
   ]
  },
  {
   "cell_type": "code",
   "execution_count": 92,
   "id": "05e707f2",
   "metadata": {},
   "outputs": [],
   "source": [
    "import pandas as pd\n",
    "import matplotlib.pyplot as plt\n",
    "import seaborn as sns\n",
    "from sklearn.model_selection import train_test_split, GridSearchCV\n",
    "from sklearn.preprocessing import StandardScaler\n",
    "from sklearn.neighbors import KNeighborsClassifier\n",
    "from sklearn.metrics import classification_report, confusion_matrix\n",
    "from sklearn.decomposition import PCA"
   ]
  },
  {
   "cell_type": "code",
   "execution_count": 94,
   "id": "ac18ace2",
   "metadata": {},
   "outputs": [],
   "source": [
    "# Load the training and test datasets\n",
    "train_df = pd.read_csv('wine_train.csv')\n",
    "test_df = pd.read_csv('wine_test.csv')\n",
    "train_df = train_df.drop_duplicates()"
   ]
  },
  {
   "cell_type": "code",
   "execution_count": 96,
   "id": "7d5b38a5",
   "metadata": {},
   "outputs": [],
   "source": [
    "features = [col for col in train_df.columns if col != 'target']\n",
    "\n",
    "X = train_df[features]\n",
    "y = train_df['target']\n",
    "X_test = test_df[features]\n",
    "y_test = test_df['target']"
   ]
  },
  {
   "cell_type": "code",
   "execution_count": 98,
   "id": "dbe6fb31",
   "metadata": {},
   "outputs": [],
   "source": [
    "scaler = StandardScaler()\n",
    "X_scaled = scaler.fit_transform(X)\n",
    "X_test_scaled = scaler.transform(X_test)"
   ]
  },
  {
   "cell_type": "code",
   "execution_count": 100,
   "id": "e701e045",
   "metadata": {},
   "outputs": [],
   "source": [
    "X_train, X_val, y_train, y_val = train_test_split(\n",
    "    X_scaled, y, test_size=0.2, stratify=y, random_state=42\n",
    ")"
   ]
  },
  {
   "cell_type": "code",
   "execution_count": 102,
   "id": "e36b58d4",
   "metadata": {},
   "outputs": [],
   "source": [
    "param_grid = {'n_neighbors': [3, 5, 7, 9]}\n",
    "grid = GridSearchCV(KNeighborsClassifier(), param_grid, cv=5, scoring='f1_macro')\n",
    "grid.fit(X_train, y_train)\n",
    "best_model = grid.best_estimator_"
   ]
  },
  {
   "cell_type": "code",
   "execution_count": 103,
   "id": "b878e6a6",
   "metadata": {},
   "outputs": [
    {
     "name": "stdout",
     "output_type": "stream",
     "text": [
      "Validation Classification Report:\n",
      "              precision    recall  f1-score   support\n",
      "\n",
      "           0       1.00      1.00      1.00        10\n",
      "           1       1.00      0.92      0.96        12\n",
      "           2       0.88      1.00      0.93         7\n",
      "\n",
      "    accuracy                           0.97        29\n",
      "   macro avg       0.96      0.97      0.96        29\n",
      "weighted avg       0.97      0.97      0.97        29\n",
      "\n",
      "Validation Confusion Matrix:\n",
      "[[10  0  0]\n",
      " [ 0 11  1]\n",
      " [ 0  0  7]]\n"
     ]
    }
   ],
   "source": [
    "y_val_pred = best_model.predict(X_val)\n",
    "print('Validation Classification Report:')\n",
    "print(classification_report(y_val, y_val_pred))\n",
    "print('Validation Confusion Matrix:')\n",
    "print(confusion_matrix(y_val, y_val_pred))"
   ]
  },
  {
   "cell_type": "raw",
   "id": "0fb71a85-2dd8-4d16-ac4d-c69327ed2f2a",
   "metadata": {},
   "source": [
    "=2)\n",
    "X_pca = pca.fit_transform(X_scaled)\n",
    "pca_df = pd.DataFrame(X_pca, columns=['PC1', 'PC2'])\n",
    "pca_df['target'] = pca = PCA(n_componentsy.values\n",
    "plt.figure(figsize=(8, 6))\n",
    "sns.scatterplot(data=pca_df, x='PC1', y='PC2', hue='target', palette='viridis')\n",
    "plt.title('PCA Projection of Wine Data (Train Set)')\n",
    "plt.show()"
   ]
  },
  {
   "cell_type": "code",
   "execution_count": 106,
   "id": "4564ee32",
   "metadata": {},
   "outputs": [
    {
     "name": "stdout",
     "output_type": "stream",
     "text": [
      "Test Classification Report:\n",
      "              precision    recall  f1-score   support\n",
      "\n",
      "           0       0.92      1.00      0.96        11\n",
      "           1       1.00      0.86      0.92        14\n",
      "           2       0.92      1.00      0.96        11\n",
      "\n",
      "    accuracy                           0.94        36\n",
      "   macro avg       0.94      0.95      0.95        36\n",
      "weighted avg       0.95      0.94      0.94        36\n",
      "\n"
     ]
    }
   ],
   "source": [
    "y_test_pred = best_model.predict(X_test_scaled)\n",
    "print('Test Classification Report:')\n",
    "print(classification_report(y_test, y_test_pred))"
   ]
  },
  {
   "cell_type": "code",
   "execution_count": 108,
   "id": "fac8fea1",
   "metadata": {},
   "outputs": [
    {
     "data": {
      "text/html": [
       "<div>\n",
       "<style scoped>\n",
       "    .dataframe tbody tr th:only-of-type {\n",
       "        vertical-align: middle;\n",
       "    }\n",
       "\n",
       "    .dataframe tbody tr th {\n",
       "        vertical-align: top;\n",
       "    }\n",
       "\n",
       "    .dataframe thead th {\n",
       "        text-align: right;\n",
       "    }\n",
       "</style>\n",
       "<table border=\"1\" class=\"dataframe\">\n",
       "  <thead>\n",
       "    <tr style=\"text-align: right;\">\n",
       "      <th></th>\n",
       "      <th>param_n_neighbors</th>\n",
       "      <th>mean_test_score</th>\n",
       "      <th>rank_test_score</th>\n",
       "    </tr>\n",
       "  </thead>\n",
       "  <tbody>\n",
       "    <tr>\n",
       "      <th>0</th>\n",
       "      <td>3</td>\n",
       "      <td>0.949019</td>\n",
       "      <td>3</td>\n",
       "    </tr>\n",
       "    <tr>\n",
       "      <th>1</th>\n",
       "      <td>5</td>\n",
       "      <td>0.939212</td>\n",
       "      <td>4</td>\n",
       "    </tr>\n",
       "    <tr>\n",
       "      <th>2</th>\n",
       "      <td>7</td>\n",
       "      <td>0.956184</td>\n",
       "      <td>1</td>\n",
       "    </tr>\n",
       "    <tr>\n",
       "      <th>3</th>\n",
       "      <td>9</td>\n",
       "      <td>0.956184</td>\n",
       "      <td>1</td>\n",
       "    </tr>\n",
       "  </tbody>\n",
       "</table>\n",
       "</div>"
      ],
      "text/plain": [
       "   param_n_neighbors  mean_test_score  rank_test_score\n",
       "0                  3         0.949019                3\n",
       "1                  5         0.939212                4\n",
       "2                  7         0.956184                1\n",
       "3                  9         0.956184                1"
      ]
     },
     "execution_count": 108,
     "metadata": {},
     "output_type": "execute_result"
    }
   ],
   "source": [
    "# GridSearchCV results summary\n",
    "pd.DataFrame(grid.cv_results_)[['param_n_neighbors', 'mean_test_score', 'rank_test_score']]"
   ]
  },
  {
   "cell_type": "markdown",
   "id": "3b5d1d93",
   "metadata": {},
   "source": [
    "###  Additional Models:"
   ]
  },
  {
   "cell_type": "code",
   "execution_count": 111,
   "id": "f3f61d6f-fa19-4be6-bd30-b50eabe20ac1",
   "metadata": {},
   "outputs": [],
   "source": [
    " ### Decision Tree"
   ]
  },
  {
   "cell_type": "code",
   "execution_count": 113,
   "id": "10ffb56b",
   "metadata": {},
   "outputs": [
    {
     "name": "stdout",
     "output_type": "stream",
     "text": [
      "Validation Report – Decision Tree\n",
      "              precision    recall  f1-score   support\n",
      "\n",
      "           0       1.00      0.90      0.95        10\n",
      "           1       0.91      0.83      0.87        12\n",
      "           2       0.78      1.00      0.88         7\n",
      "\n",
      "    accuracy                           0.90        29\n",
      "   macro avg       0.90      0.91      0.90        29\n",
      "weighted avg       0.91      0.90      0.90        29\n",
      "\n"
     ]
    }
   ],
   "source": [
    "from sklearn.tree import DecisionTreeClassifier\n",
    "tree = DecisionTreeClassifier(random_state=42)\n",
    "tree.fit(X_train, y_train)\n",
    "y_val_tree_pred = tree.predict(X_val)\n",
    "print('Validation Report – Decision Tree')\n",
    "print(classification_report(y_val, y_val_tree_pred))"
   ]
  },
  {
   "cell_type": "code",
   "execution_count": 115,
   "id": "69102f9a",
   "metadata": {},
   "outputs": [
    {
     "data": {
      "text/plain": [
       "array([2, 0, 2, 1, 2], dtype=int64)"
      ]
     },
     "execution_count": 115,
     "metadata": {},
     "output_type": "execute_result"
    }
   ],
   "source": [
    "# First 5 predictions on test set\n",
    "y_test_pred[:5]"
   ]
  },
  {
   "cell_type": "code",
   "execution_count": 117,
   "id": "34165033-f555-4154-bbc6-a8b42374a3ab",
   "metadata": {},
   "outputs": [],
   "source": [
    "### Logistic Regression"
   ]
  },
  {
   "cell_type": "code",
   "execution_count": 119,
   "id": "70bb8266-8a44-42dd-bc8a-118f8e7b4744",
   "metadata": {},
   "outputs": [
    {
     "name": "stdout",
     "output_type": "stream",
     "text": [
      "Validation Report – Logistic Regression\n",
      "              precision    recall  f1-score   support\n",
      "\n",
      "           0       1.00      1.00      1.00        10\n",
      "           1       1.00      0.92      0.96        12\n",
      "           2       0.88      1.00      0.93         7\n",
      "\n",
      "    accuracy                           0.97        29\n",
      "   macro avg       0.96      0.97      0.96        29\n",
      "weighted avg       0.97      0.97      0.97        29\n",
      "\n",
      "Confusion Matrix – Logistic Regression\n",
      "[[10  0  0]\n",
      " [ 0 11  1]\n",
      " [ 0  0  7]]\n"
     ]
    }
   ],
   "source": [
    "\n",
    "from sklearn.linear_model import LogisticRegression\n",
    "logreg = LogisticRegression(max_iter=1000, random_state=42)\n",
    "logreg.fit(X_train, y_train)\n",
    "y_val_logreg = logreg.predict(X_val)\n",
    "print(\"Validation Report – Logistic Regression\")\n",
    "print(classification_report(y_val, y_val_logreg))\n",
    "print(\"Confusion Matrix – Logistic Regression\")\n",
    "print(confusion_matrix(y_val, y_val_logreg))\n"
   ]
  },
  {
   "cell_type": "code",
   "execution_count": null,
   "id": "dccef6ae-c6c0-4616-885e-052fdb41c2f5",
   "metadata": {},
   "outputs": [],
   "source": []
  },
  {
   "cell_type": "code",
   "execution_count": null,
   "id": "8282839c-60ba-4c20-b525-5bc0b45f1937",
   "metadata": {},
   "outputs": [],
   "source": []
  },
  {
   "cell_type": "code",
   "execution_count": null,
   "id": "1521c4c0-9a27-468e-932e-eb2a5dbbbb1d",
   "metadata": {},
   "outputs": [],
   "source": []
  },
  {
   "cell_type": "code",
   "execution_count": null,
   "id": "27ff1378-b242-486e-bdb2-fa19aafaebfc",
   "metadata": {},
   "outputs": [],
   "source": []
  }
 ],
 "metadata": {
  "kernelspec": {
   "display_name": "Python (base)",
   "language": "python",
   "name": "base"
  },
  "language_info": {
   "codemirror_mode": {
    "name": "ipython",
    "version": 3
   },
   "file_extension": ".py",
   "mimetype": "text/x-python",
   "name": "python",
   "nbconvert_exporter": "python",
   "pygments_lexer": "ipython3",
   "version": "3.12.7"
  }
 },
 "nbformat": 4,
 "nbformat_minor": 5
}
